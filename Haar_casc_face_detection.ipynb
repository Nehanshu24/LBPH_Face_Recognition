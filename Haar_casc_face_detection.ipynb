{
 "cells": [
  {
   "cell_type": "code",
   "execution_count": 70,
   "id": "linear-headline",
   "metadata": {},
   "outputs": [],
   "source": [
    "import cv2\n",
    "import os\n",
    "import numpy as np"
   ]
  },
  {
   "cell_type": "code",
   "execution_count": 73,
   "id": "breathing-algorithm",
   "metadata": {},
   "outputs": [
    {
     "data": {
      "text/plain": [
       "-1"
      ]
     },
     "execution_count": 73,
     "metadata": {},
     "output_type": "execute_result"
    }
   ],
   "source": [
    "#image_path = \"images\\ba.png\"\n",
    "img = cv2.imread(r\"C:\\Users\\nehan\\Documents\\Mega Sync\\VJTI\\Sum Pro\\Haar\\images\\grp2.jpg\")\n",
    "height = 224\n",
    "width = img.shape[1]*height/img.shape[0]\n",
    "img = cv2.resize(img, (int(width), height), None, 0.5, 0.5, interpolation=cv2.INTER_AREA)\n",
    "cv2.imshow('img', img)\n",
    "cv2.waitKey(0)"
   ]
  },
  {
   "cell_type": "code",
   "execution_count": 74,
   "id": "standard-absence",
   "metadata": {},
   "outputs": [],
   "source": [
    "trained_face_data = cv2.CascadeClassifier(cv2.data.haarcascades + 'haarcascade_frontalface_default.xml')\n",
    "trained_eye_data = cv2.CascadeClassifier(cv2.data.haarcascades + 'haarcascade_eye.xml')\n",
    "\n",
    "def detect_faces(image):\n",
    "    gray_img = cv2.cvtColor(image, cv2.COLOR_BGR2GRAY)\n",
    "    face_coordinates = trained_face_data.detectMultiScale(gray_img)\n",
    "\n",
    "    for (x, y, w, h) in face_coordinates:\n",
    "        face = gray_img[y:y + h, x:x + w]\n",
    "        eye_coordinates = trained_eye_data.detectMultiScale(face)\n",
    "        colors = np.random.randint(1, 255, 3)\n",
    "        cv2.rectangle(image, (x, y), (x + w, y + h), (int(colors[0]), int(colors[1]), int(colors[2])), thickness=2)\n",
    "        for (x2, y2, w2, h2) in eye_coordinates:\n",
    "            eye_colors = np.random.randint(1, 255, 3)\n",
    "            eye_center = (x + x2 + w2 // 2, y + y2 + h2 // 2)\n",
    "            eye_radius = int(round((w2 + h2) * 0.25))\n",
    "            cv2.circle(image, center=eye_center, radius=eye_radius,\n",
    "                       color=(int(eye_colors[0]), int(eye_colors[1]), int(eye_colors[2])))\n",
    "    cv2.imshow('Image', image)\n",
    "    cv2.waitKey(0)\n",
    "detect_faces(img)"
   ]
  },
  {
   "cell_type": "code",
   "execution_count": 3,
   "id": "occupational-difference",
   "metadata": {},
   "outputs": [],
   "source": [
    "import cv2 \n",
    "import numpy as np\n",
    "# define a video capture object\n",
    "face_classifier = cv2.CascadeClassifier(r\"C:\\Users\\nehan\\Documents\\Mega Sync\\VJTI\\Sum Pro\\Haar/cascades/haarcascade_frontalface_default.xml\")\n",
    "eyes_classifier = cv2.CascadeClassifier(r\"C:\\Users\\nehan\\Documents\\Mega Sync\\VJTI\\Sum Pro\\Haar/cascades/haarcascade_eye.xml\")\n",
    "#smile_classifier = cv2.CascadeClassifier(r\"C:\\Users\\nehan\\Documents\\Mega Sync\\VJTI\\Sum Pro\\Haar/cascades/haarcascade_smile.xml\")\n",
    "vid = cv2.VideoCapture(0)\n",
    "  \n",
    "while(True):\n",
    "      \n",
    "    # Capture the video frame\n",
    "    # by frame\n",
    "    ret, frame = vid.read()\n",
    "    \n",
    "    gray = cv2.cvtColor(frame, cv2.COLOR_BGR2GRAY)\n",
    "   \n",
    "    # Pass frame to our face classifier\n",
    "    face = face_classifier.detectMultiScale(gray, 1.1, 2)\n",
    "    eyes = eyes_classifier.detectMultiScale(gray, 1.1, 2)\n",
    "    #smile = smile_classifier.detectMultiScale(gray, 1.1, 2)\n",
    "    \n",
    "  \n",
    "    # Display the resulting frame\n",
    "    cv2.imshow('frame', frame)\n",
    "    \n",
    "    for (x,y,w,h) in face:\n",
    "        cv2.rectangle(frame, (x, y), (x+w, y+h), (0, 255, 255), 2)\n",
    "        face_c = gray[y:y + h, x:x + w]\n",
    "        eye_coordinates = eyes_classifier.detectMultiScale(face_c)\n",
    "        colors = np.random.randint(1, 255, 3)\n",
    "        for (x2, y2, w2, h2) in eye_coordinates:\n",
    "            eye_colors = np.random.randint(1, 255, 3)\n",
    "            eye_center = (x + x2 + w2 // 2, y + y2 + h2 // 2)\n",
    "            eye_radius = int(round((w2 + h2) * 0.25))\n",
    "            cv2.circle(frame, center=eye_center, radius=eye_radius,\n",
    "                       color=(int(eye_colors[0]), int(eye_colors[1]), int(eye_colors[2])))\n",
    "        cv2.imshow('face', frame)  \n",
    "    # the 'q' button is set as the\n",
    "    # quitting button you may use any\n",
    "    # desired button of your choice\n",
    "    if cv2.waitKey(1) & 0xFF == ord('q'):\n",
    "        break\n",
    "  \n",
    "# After the loop release the cap object\n",
    "vid.release()\n",
    "# Destroy all the windows\n",
    "cv2.destroyAllWindows()"
   ]
  },
  {
   "cell_type": "code",
   "execution_count": null,
   "id": "framed-rolling",
   "metadata": {},
   "outputs": [],
   "source": []
  }
 ],
 "metadata": {
  "kernelspec": {
   "display_name": "Python 3",
   "language": "python",
   "name": "python3"
  },
  "language_info": {
   "codemirror_mode": {
    "name": "ipython",
    "version": 3
   },
   "file_extension": ".py",
   "mimetype": "text/x-python",
   "name": "python",
   "nbconvert_exporter": "python",
   "pygments_lexer": "ipython3",
   "version": "3.7.7"
  }
 },
 "nbformat": 4,
 "nbformat_minor": 5
}
